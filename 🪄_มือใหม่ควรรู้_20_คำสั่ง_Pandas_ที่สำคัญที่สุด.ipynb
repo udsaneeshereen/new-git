{
  "nbformat": 4,
  "nbformat_minor": 0,
  "metadata": {
    "colab": {
      "provenance": [],
      "include_colab_link": true
    },
    "kernelspec": {
      "name": "python3",
      "display_name": "Python 3"
    },
    "language_info": {
      "name": "python"
    }
  },
  "cells": [
    {
      "cell_type": "markdown",
      "metadata": {
        "id": "view-in-github",
        "colab_type": "text"
      },
      "source": [
        "<a href=\"https://colab.research.google.com/github/udsaneeshereen/new-git/blob/master/%F0%9F%AA%84_%E0%B8%A1%E0%B8%B7%E0%B8%AD%E0%B9%83%E0%B8%AB%E0%B8%A1%E0%B9%88%E0%B8%84%E0%B8%A7%E0%B8%A3%E0%B8%A3%E0%B8%B9%E0%B9%89_20_%E0%B8%84%E0%B8%B3%E0%B8%AA%E0%B8%B1%E0%B9%88%E0%B8%87_Pandas_%E0%B8%97%E0%B8%B5%E0%B9%88%E0%B8%AA%E0%B8%B3%E0%B8%84%E0%B8%B1%E0%B8%8D%E0%B8%97%E0%B8%B5%E0%B9%88%E0%B8%AA%E0%B8%B8%E0%B8%94.ipynb\" target=\"_parent\"><img src=\"https://colab.research.google.com/assets/colab-badge.svg\" alt=\"Open In Colab\"/></a>"
      ]
    },
    {
      "cell_type": "code",
      "source": [
        "import pandas as pd\n",
        "\n",
        "# 1.โหลด CSV ไฟล์เข้าสู่  DataFrame จาก GitHub URL\n",
        "url = 'https://raw.githubusercontent.com/BorntoDev/pandas-20-essential-commands-for-beginners/main/projects-operations-demo-large.csv'\n",
        "df = pd.read_csv(url)\n",
        "\n",
        "# แต่ถ้าอัปโหลดไฟล์ CSV มาใน Colab เองแล้วโหลดเข้าสู่ DataFrame จะใช้ท่านี้\n",
        "# file_path = '/content/projects-operations-demo-large.csv'\n",
        "# df = pd.read_csv(file_path)"
      ],
      "metadata": {
        "id": "GQyr3kvY746V"
      },
      "execution_count": null,
      "outputs": []
    },
    {
      "cell_type": "code",
      "source": [
        "# 2. ดูข้อมูล 5 แถวแรก\n",
        "print(df.head())"
      ],
      "metadata": {
        "colab": {
          "base_uri": "https://localhost:8080/"
        },
        "id": "NhzF9sz4C4kJ",
        "outputId": "0f608e90-50f8-4d3c-8730-aa55fc0e6f86"
      },
      "execution_count": null,
      "outputs": [
        {
          "output_type": "stream",
          "name": "stdout",
          "text": [
            "   project_id project_name  start_date    end_date    budget  team_size  \\\n",
            "0           1    Project A  2024-01-07  2024-06-17  238290.0          9   \n",
            "1           2    Project B  2024-01-14  2024-07-08   97257.0         13   \n",
            "2           3    Project C  2024-01-21  2024-06-24  196812.0          5   \n",
            "3           4    Project D  2024-01-28  2024-07-08  480855.0         19   \n",
            "4           5    Project E  2024-02-04  2024-07-08  257076.0         10   \n",
            "\n",
            "      status  \n",
            "0  Completed  \n",
            "1    Ongoing  \n",
            "2  Completed  \n",
            "3  Completed  \n",
            "4    Ongoing  \n"
          ]
        }
      ]
    },
    {
      "cell_type": "code",
      "source": [
        "# 3. ดูข้อมูล 5 แถวสุดท้าย\n",
        "print(df.tail())"
      ],
      "metadata": {
        "colab": {
          "base_uri": "https://localhost:8080/"
        },
        "id": "VkEgjhpJC85H",
        "outputId": "5b66e8bd-aa4e-4f1d-f243-bdd7f6364ea8"
      },
      "execution_count": null,
      "outputs": [
        {
          "output_type": "stream",
          "name": "stdout",
          "text": [
            "    project_id project_name  start_date    end_date    budget  team_size  \\\n",
            "95          96    Project R  2025-11-02  2024-07-15  439129.0          6   \n",
            "96          97    Project S  2025-11-09  2024-07-08  398626.0          9   \n",
            "97          98    Project T  2025-11-16         NaN  310374.0         16   \n",
            "98          99    Project U  2025-11-23  2024-04-08  335297.0         17   \n",
            "99         100    Project V  2025-11-30  2024-07-29  273579.0         14   \n",
            "\n",
            "         status  \n",
            "95  Not Started  \n",
            "96    Completed  \n",
            "97      Ongoing  \n",
            "98  Not Started  \n",
            "99      Ongoing  \n"
          ]
        }
      ]
    },
    {
      "cell_type": "code",
      "source": [
        "# 4. ดูข้อมูลสรุปเกี่ยวกับ DataFrame\n",
        "print(df.info())"
      ],
      "metadata": {
        "colab": {
          "base_uri": "https://localhost:8080/"
        },
        "id": "ej8dqZNyDJXF",
        "outputId": "5f72ebc8-3aba-4249-bb97-6d124794d448"
      },
      "execution_count": null,
      "outputs": [
        {
          "output_type": "stream",
          "name": "stdout",
          "text": [
            "<class 'pandas.core.frame.DataFrame'>\n",
            "RangeIndex: 100 entries, 0 to 99\n",
            "Data columns (total 7 columns):\n",
            " #   Column        Non-Null Count  Dtype  \n",
            "---  ------        --------------  -----  \n",
            " 0   project_id    100 non-null    int64  \n",
            " 1   project_name  100 non-null    object \n",
            " 2   start_date    100 non-null    object \n",
            " 3   end_date      90 non-null     object \n",
            " 4   budget        90 non-null     float64\n",
            " 5   team_size     100 non-null    int64  \n",
            " 6   status        100 non-null    object \n",
            "dtypes: float64(1), int64(2), object(4)\n",
            "memory usage: 5.6+ KB\n",
            "None\n"
          ]
        }
      ]
    },
    {
      "cell_type": "code",
      "source": [
        "# 5. แสดงสถิติพื้นฐานของข้อมูล\n",
        "print(df.describe())\n"
      ],
      "metadata": {
        "colab": {
          "base_uri": "https://localhost:8080/"
        },
        "id": "jeID-kz4DVIg",
        "outputId": "8079fa4f-15c5-44da-ff73-369c1b0b2556"
      },
      "execution_count": null,
      "outputs": [
        {
          "output_type": "stream",
          "name": "stdout",
          "text": [
            "       project_id         budget  team_size\n",
            "count  100.000000      90.000000  100.00000\n",
            "mean    50.500000  277497.433333   11.89000\n",
            "std     29.011492  128462.798776    4.40132\n",
            "min      1.000000   55627.000000    5.00000\n",
            "25%     25.750000  164139.500000    8.00000\n",
            "50%     50.500000  271334.500000   11.50000\n",
            "75%     75.250000  376178.750000   15.25000\n",
            "max    100.000000  491348.000000   19.00000\n"
          ]
        }
      ]
    },
    {
      "cell_type": "code",
      "source": [
        "# 6. แสดงชื่อคอลัมน์ทั้งหมดใน DataFrame\n",
        "print(df.columns)\n"
      ],
      "metadata": {
        "colab": {
          "base_uri": "https://localhost:8080/"
        },
        "id": "oZcj-TGkDXPk",
        "outputId": "abd076b8-7c47-455c-9175-ac4607a70cca"
      },
      "execution_count": null,
      "outputs": [
        {
          "output_type": "stream",
          "name": "stdout",
          "text": [
            "Index(['project_id', 'project_name', 'start_date', 'end_date', 'budget',\n",
            "       'team_size', 'status'],\n",
            "      dtype='object')\n"
          ]
        }
      ]
    },
    {
      "cell_type": "code",
      "source": [
        "# 7. แสดงขนาดของ DataFrame (จำนวนแถว, จำนวนคอลัมน์)\n",
        "print(df.shape)\n"
      ],
      "metadata": {
        "colab": {
          "base_uri": "https://localhost:8080/"
        },
        "id": "kkV171G-DZE-",
        "outputId": "7eb4b8eb-4d9b-4cbd-f99b-809feaa2e957"
      },
      "execution_count": null,
      "outputs": [
        {
          "output_type": "stream",
          "name": "stdout",
          "text": [
            "(100, 7)\n"
          ]
        }
      ]
    },
    {
      "cell_type": "code",
      "source": [
        "# 8. ตรวจสอบว่ามีค่า missing (null) ใน DataFrame หรือไม่\n",
        "print(df.isnull().sum())"
      ],
      "metadata": {
        "colab": {
          "base_uri": "https://localhost:8080/"
        },
        "id": "yS_Dfq3DDbLY",
        "outputId": "a817b6cb-ac9b-4d17-a229-a941b7a615b8"
      },
      "execution_count": null,
      "outputs": [
        {
          "output_type": "stream",
          "name": "stdout",
          "text": [
            "project_id       0\n",
            "project_name     0\n",
            "start_date       0\n",
            "end_date        10\n",
            "budget          10\n",
            "team_size        0\n",
            "status           0\n",
            "dtype: int64\n"
          ]
        }
      ]
    },
    {
      "cell_type": "code",
      "source": [
        "# 9. ลบแถวที่มีค่า missing ออก\n",
        "df_cleaned = df.dropna()\n",
        "print(df_cleaned.head())"
      ],
      "metadata": {
        "colab": {
          "base_uri": "https://localhost:8080/"
        },
        "id": "4l3iv1KhDcpE",
        "outputId": "67e46222-ae10-4ec3-a046-280cc5f9b116"
      },
      "execution_count": null,
      "outputs": [
        {
          "output_type": "stream",
          "name": "stdout",
          "text": [
            "   project_id project_name  start_date    end_date    budget  team_size  \\\n",
            "0           1    Project A  2024-01-07  2024-06-17  238290.0          9   \n",
            "1           2    Project B  2024-01-14  2024-07-08   97257.0         13   \n",
            "2           3    Project C  2024-01-21  2024-06-24  196812.0          5   \n",
            "3           4    Project D  2024-01-28  2024-07-08  480855.0         19   \n",
            "4           5    Project E  2024-02-04  2024-07-08  257076.0         10   \n",
            "\n",
            "      status  \n",
            "0  Completed  \n",
            "1    Ongoing  \n",
            "2  Completed  \n",
            "3  Completed  \n",
            "4    Ongoing  \n"
          ]
        }
      ]
    },
    {
      "cell_type": "code",
      "source": [
        "# 10. เติมค่าที่หายไปใน DataFrame ด้วยค่าเฉพาะ เช่น เติมด้วย 0\n",
        "df_filled = df.fillna(0)\n",
        "print(df_filled.head())"
      ],
      "metadata": {
        "colab": {
          "base_uri": "https://localhost:8080/"
        },
        "id": "0V9IYl0QDfDn",
        "outputId": "4220e7a8-b394-43cc-8794-091a365ec3cf"
      },
      "execution_count": null,
      "outputs": [
        {
          "output_type": "stream",
          "name": "stdout",
          "text": [
            "   project_id project_name  start_date    end_date    budget  team_size  \\\n",
            "0           1    Project A  2024-01-07  2024-06-17  238290.0          9   \n",
            "1           2    Project B  2024-01-14  2024-07-08   97257.0         13   \n",
            "2           3    Project C  2024-01-21  2024-06-24  196812.0          5   \n",
            "3           4    Project D  2024-01-28  2024-07-08  480855.0         19   \n",
            "4           5    Project E  2024-02-04  2024-07-08  257076.0         10   \n",
            "\n",
            "      status  \n",
            "0  Completed  \n",
            "1    Ongoing  \n",
            "2  Completed  \n",
            "3  Completed  \n",
            "4    Ongoing  \n"
          ]
        }
      ]
    },
    {
      "cell_type": "code",
      "source": [
        "# 11. เรียงข้อมูลใน DataFrame ตามคอลัมน์ที่ระบุ\n",
        "# สมมติว่ามีคอลัมน์ที่ชื่อ 'project_id' ให้เรียงลำดับ\n",
        "if 'project_id' in df.columns:\n",
        "    df_sorted = df.sort_values(by='project_id')\n",
        "    print(df_sorted.head())"
      ],
      "metadata": {
        "colab": {
          "base_uri": "https://localhost:8080/"
        },
        "id": "tW57e389DjRG",
        "outputId": "ae63ce25-9a5c-4a22-c7be-f4081eb7a323"
      },
      "execution_count": null,
      "outputs": [
        {
          "output_type": "stream",
          "name": "stdout",
          "text": [
            "   project_id project_name  start_date    end_date    budget  team_size  \\\n",
            "0           1    Project A  2024-01-07  2024-06-17  238290.0          9   \n",
            "1           2    Project B  2024-01-14  2024-07-08   97257.0         13   \n",
            "2           3    Project C  2024-01-21  2024-06-24  196812.0          5   \n",
            "3           4    Project D  2024-01-28  2024-07-08  480855.0         19   \n",
            "4           5    Project E  2024-02-04  2024-07-08  257076.0         10   \n",
            "\n",
            "      status  \n",
            "0  Completed  \n",
            "1    Ongoing  \n",
            "2  Completed  \n",
            "3  Completed  \n",
            "4    Ongoing  \n"
          ]
        }
      ]
    },
    {
      "cell_type": "code",
      "source": [
        "# 12. การกลุ่มข้อมูลใน DataFrame และคำนวณค่าทางสถิติ\n",
        "# ในกรณีนี้เราสามารถใช้คอลัมน์ 'status' ในการกลุ่มและคำนวณค่าเฉลี่ยของคอลัมน์เชิงตัวเลข เช่น 'budget'\n",
        "if 'status' in df.columns:\n",
        "    df_grouped = df.groupby('status').mean(numeric_only=True)\n",
        "    print(df_grouped)\n"
      ],
      "metadata": {
        "colab": {
          "base_uri": "https://localhost:8080/"
        },
        "id": "UdaqjOjDDpmW",
        "outputId": "d3ec6d2b-d4ac-4d7c-d54e-dfa86d035db2"
      },
      "execution_count": null,
      "outputs": [
        {
          "output_type": "stream",
          "name": "stdout",
          "text": [
            "             project_id         budget  team_size\n",
            "status                                           \n",
            "Completed     49.419355  292304.241379  11.709677\n",
            "Not Started   48.121212  271073.000000  12.575758\n",
            "Ongoing       53.611111  269936.424242  11.416667\n"
          ]
        }
      ]
    },
    {
      "cell_type": "code",
      "source": [
        "# 13. การรวมข้อมูลจาก DataFrame สองตัวเข้าด้วยกัน\n",
        "# สร้าง DataFrame อื่นที่มีคอลัมน์ 'project_id' สำหรับ merge\n",
        "df_other = pd.DataFrame({'project_id': [1, 2, 3], 'extra_info': ['A', 'B', 'C']})\n",
        "df_merged = df.merge(df_other, on='project_id', how='left')\n",
        "print(df_merged.head())"
      ],
      "metadata": {
        "colab": {
          "base_uri": "https://localhost:8080/"
        },
        "id": "WZiT-C88FRIL",
        "outputId": "b217806e-a597-4909-fb8c-08aafdd952e2"
      },
      "execution_count": null,
      "outputs": [
        {
          "output_type": "stream",
          "name": "stdout",
          "text": [
            "   project_id project_name  start_date    end_date    budget  team_size  \\\n",
            "0           1    Project A  2024-01-07  2024-06-17  238290.0          9   \n",
            "1           2    Project B  2024-01-14  2024-07-08   97257.0         13   \n",
            "2           3    Project C  2024-01-21  2024-06-24  196812.0          5   \n",
            "3           4    Project D  2024-01-28  2024-07-08  480855.0         19   \n",
            "4           5    Project E  2024-02-04  2024-07-08  257076.0         10   \n",
            "\n",
            "      status extra_info  \n",
            "0  Completed          A  \n",
            "1    Ongoing          B  \n",
            "2  Completed          C  \n",
            "3  Completed        NaN  \n",
            "4    Ongoing        NaN  \n"
          ]
        }
      ]
    },
    {
      "cell_type": "code",
      "source": [
        "# 14. ใช้ฟังก์ชันกับแต่ละแถวหรือคอลัมน์ใน DataFrame\n",
        "# สมมติว่ามีคอลัมน์ 'budget' ที่เราต้องการคูณด้วย 2\n",
        "if 'budget' in df.columns:\n",
        "    df['budget_doubled'] = df['budget'].apply(lambda x: x * 2)\n",
        "    print(df.head())"
      ],
      "metadata": {
        "colab": {
          "base_uri": "https://localhost:8080/"
        },
        "id": "wN4Fw-NqGTpu",
        "outputId": "836a3eca-7bf4-49f1-eceb-a70535e00d73"
      },
      "execution_count": null,
      "outputs": [
        {
          "output_type": "stream",
          "name": "stdout",
          "text": [
            "   project_id project_name  start_date    end_date    budget  team_size  \\\n",
            "0           1    Project A  2024-01-07  2024-06-17  238290.0          9   \n",
            "1           2    Project B  2024-01-14  2024-07-08   97257.0         13   \n",
            "2           3    Project C  2024-01-21  2024-06-24  196812.0          5   \n",
            "3           4    Project D  2024-01-28  2024-07-08  480855.0         19   \n",
            "4           5    Project E  2024-02-04  2024-07-08  257076.0         10   \n",
            "\n",
            "      status  budget_doubled  \n",
            "0  Completed        476580.0  \n",
            "1    Ongoing        194514.0  \n",
            "2  Completed        393624.0  \n",
            "3  Completed        961710.0  \n",
            "4    Ongoing        514152.0  \n"
          ]
        }
      ]
    },
    {
      "cell_type": "code",
      "source": [
        "# 15. ลบคอลัมน์ออกจาก DataFrame\n",
        "# สมมติว่าต้องการลบคอลัมน์ที่ชื่อ 'status'\n",
        "if 'status' in df.columns:\n",
        "    df_dropped = df.drop(['status'], axis=1)\n",
        "    print(df_dropped.head())"
      ],
      "metadata": {
        "colab": {
          "base_uri": "https://localhost:8080/"
        },
        "id": "dJY5XRD1GVve",
        "outputId": "0f5c51a0-f1ee-4116-febb-ae9b3580a013"
      },
      "execution_count": null,
      "outputs": [
        {
          "output_type": "stream",
          "name": "stdout",
          "text": [
            "   project_id project_name  start_date    end_date    budget  team_size  \\\n",
            "0           1    Project A  2024-01-07  2024-06-17  238290.0          9   \n",
            "1           2    Project B  2024-01-14  2024-07-08   97257.0         13   \n",
            "2           3    Project C  2024-01-21  2024-06-24  196812.0          5   \n",
            "3           4    Project D  2024-01-28  2024-07-08  480855.0         19   \n",
            "4           5    Project E  2024-02-04  2024-07-08  257076.0         10   \n",
            "\n",
            "   budget_doubled  \n",
            "0        476580.0  \n",
            "1        194514.0  \n",
            "2        393624.0  \n",
            "3        961710.0  \n",
            "4        514152.0  \n"
          ]
        }
      ]
    },
    {
      "cell_type": "code",
      "source": [
        "# 16. เปลี่ยนชื่อคอลัมน์ใน DataFrame\n",
        "# สมมติว่าต้องการเปลี่ยนชื่อคอลัมน์ 'team_size' เป็น 'team_count'\n",
        "if 'team_size' in df.columns:\n",
        "    df_renamed = df.rename(columns={'team_size': 'team_count'})\n",
        "    print(df_renamed.head())"
      ],
      "metadata": {
        "colab": {
          "base_uri": "https://localhost:8080/"
        },
        "id": "G1yw2QZNGXhw",
        "outputId": "ae5f3896-1370-4e9d-f9e3-a7d66f27d937"
      },
      "execution_count": null,
      "outputs": [
        {
          "output_type": "stream",
          "name": "stdout",
          "text": [
            "   project_id project_name  start_date    end_date    budget  team_count  \\\n",
            "0           1    Project A  2024-01-07  2024-06-17  238290.0           9   \n",
            "1           2    Project B  2024-01-14  2024-07-08   97257.0          13   \n",
            "2           3    Project C  2024-01-21  2024-06-24  196812.0           5   \n",
            "3           4    Project D  2024-01-28  2024-07-08  480855.0          19   \n",
            "4           5    Project E  2024-02-04  2024-07-08  257076.0          10   \n",
            "\n",
            "      status  budget_doubled  \n",
            "0  Completed        476580.0  \n",
            "1    Ongoing        194514.0  \n",
            "2  Completed        393624.0  \n",
            "3  Completed        961710.0  \n",
            "4    Ongoing        514152.0  \n"
          ]
        }
      ]
    },
    {
      "cell_type": "code",
      "source": [
        "# 17. กำหนดคอลัมน์ให้เป็น index ของ DataFrame\n",
        "# สมมติว่าต้องการตั้ง 'project_id' เป็น index\n",
        "if 'project_id' in df.columns:\n",
        "    df_indexed = df.set_index('project_id')\n",
        "    print(df_indexed.head())"
      ],
      "metadata": {
        "colab": {
          "base_uri": "https://localhost:8080/"
        },
        "id": "P2jjKFzVGZlp",
        "outputId": "b2c3d29b-d999-42db-d67f-08f3a8078878"
      },
      "execution_count": null,
      "outputs": [
        {
          "output_type": "stream",
          "name": "stdout",
          "text": [
            "           project_name  start_date    end_date    budget  team_size  \\\n",
            "project_id                                                             \n",
            "1             Project A  2024-01-07  2024-06-17  238290.0          9   \n",
            "2             Project B  2024-01-14  2024-07-08   97257.0         13   \n",
            "3             Project C  2024-01-21  2024-06-24  196812.0          5   \n",
            "4             Project D  2024-01-28  2024-07-08  480855.0         19   \n",
            "5             Project E  2024-02-04  2024-07-08  257076.0         10   \n",
            "\n",
            "               status  budget_doubled  \n",
            "project_id                             \n",
            "1           Completed        476580.0  \n",
            "2             Ongoing        194514.0  \n",
            "3           Completed        393624.0  \n",
            "4           Completed        961710.0  \n",
            "5             Ongoing        514152.0  \n"
          ]
        }
      ]
    },
    {
      "cell_type": "code",
      "source": [
        "# 18. รีเซ็ต index ของ DataFrame เป็นค่าเริ่มต้น\n",
        "df_reset = df.reset_index(drop=True)\n",
        "print(df_reset.head())"
      ],
      "metadata": {
        "colab": {
          "base_uri": "https://localhost:8080/"
        },
        "id": "4RsbVg3ZGb_x",
        "outputId": "0fe201b2-3392-438f-dc42-f1eaa581fae7"
      },
      "execution_count": null,
      "outputs": [
        {
          "output_type": "stream",
          "name": "stdout",
          "text": [
            "   project_id project_name  start_date    end_date    budget  team_size  \\\n",
            "0           1    Project A  2024-01-07  2024-06-17  238290.0          9   \n",
            "1           2    Project B  2024-01-14  2024-07-08   97257.0         13   \n",
            "2           3    Project C  2024-01-21  2024-06-24  196812.0          5   \n",
            "3           4    Project D  2024-01-28  2024-07-08  480855.0         19   \n",
            "4           5    Project E  2024-02-04  2024-07-08  257076.0         10   \n",
            "\n",
            "      status  budget_doubled  \n",
            "0  Completed        476580.0  \n",
            "1    Ongoing        194514.0  \n",
            "2  Completed        393624.0  \n",
            "3  Completed        961710.0  \n",
            "4    Ongoing        514152.0  \n"
          ]
        }
      ]
    },
    {
      "cell_type": "code",
      "source": [
        "# 19. สร้าง pivot table จาก DataFrame\n",
        "# สมมติว่าต้องการสร้าง pivot table ที่แสดงค่าเฉลี่ยของ 'budget'\n",
        "# โดยมี index เป็น 'status', columns เป็น 'team_size'\n",
        "if 'status' in df.columns and 'team_size' in df.columns:\n",
        "    df_pivot = df.pivot_table(values='budget', index='status', columns='team_size', aggfunc='mean')\n",
        "    print(df_pivot)"
      ],
      "metadata": {
        "colab": {
          "base_uri": "https://localhost:8080/"
        },
        "id": "8g-M_lGaGeMJ",
        "outputId": "0d45c215-3d94-442a-8fb4-c0b4a9cd2771"
      },
      "execution_count": null,
      "outputs": [
        {
          "output_type": "stream",
          "name": "stdout",
          "text": [
            "team_size               5              6         7              8          9   \\\n",
            "status                                                                          \n",
            "Completed    221146.333333  308672.000000  366200.0  339077.333333  267605.25   \n",
            "Not Started  349376.000000  342361.333333       NaN  124301.500000  173258.50   \n",
            "Ongoing      185731.000000            NaN  206656.0  354242.000000  251020.00   \n",
            "\n",
            "team_size               10             11        12             13         14  \\\n",
            "status                                                                          \n",
            "Completed    286131.000000  239192.000000  446032.0            NaN  468385.00   \n",
            "Not Started   85352.000000  319185.000000  137346.0  302215.000000   92597.00   \n",
            "Ongoing      397315.666667  404158.333333   65502.0  115484.666667  296983.75   \n",
            "\n",
            "team_size          15         16             17             18        19  \n",
            "status                                                                    \n",
            "Completed    186012.0        NaN  240466.333333  169874.000000  433642.0  \n",
            "Not Started  245491.0  346017.25  349920.333333  466439.000000  316622.5  \n",
            "Ongoing      375449.0  310374.00  357596.000000  277047.666667  245601.0  \n"
          ]
        }
      ]
    },
    {
      "cell_type": "code",
      "source": [
        "# 20. เชื่อม DataFrame หลายตัวเข้าด้วยกัน\n",
        "df_concat = pd.concat([df, df_other], axis=0)\n",
        "print(df_concat.head())"
      ],
      "metadata": {
        "colab": {
          "base_uri": "https://localhost:8080/"
        },
        "id": "MEZtF2HkGhWl",
        "outputId": "4a6df386-6732-402f-875e-d3411f5d9bc2"
      },
      "execution_count": null,
      "outputs": [
        {
          "output_type": "stream",
          "name": "stdout",
          "text": [
            "   project_id project_name  start_date    end_date    budget  team_size  \\\n",
            "0           1    Project A  2024-01-07  2024-06-17  238290.0        9.0   \n",
            "1           2    Project B  2024-01-14  2024-07-08   97257.0       13.0   \n",
            "2           3    Project C  2024-01-21  2024-06-24  196812.0        5.0   \n",
            "3           4    Project D  2024-01-28  2024-07-08  480855.0       19.0   \n",
            "4           5    Project E  2024-02-04  2024-07-08  257076.0       10.0   \n",
            "\n",
            "      status  budget_doubled extra_info  \n",
            "0  Completed        476580.0        NaN  \n",
            "1    Ongoing        194514.0        NaN  \n",
            "2  Completed        393624.0        NaN  \n",
            "3  Completed        961710.0        NaN  \n",
            "4    Ongoing        514152.0        NaN  \n"
          ]
        }
      ]
    }
  ]
}